{
 "cells": [
  {
   "cell_type": "code",
   "execution_count": 7,
   "metadata": {},
   "outputs": [],
   "source": [
    "import os\n",
    "os.environ[\"CUDA_VISIBLE_DEVICES\"]=\"\"\n",
    "import json\n",
    "from collections import namedtuple\n",
    "config = json.load(open(\"config.json\"))\n",
    "config[\"mode\"] = \"transfer\"\n",
    "config[\"pad_question\"] = 100\n",
    "config[\"pad_sentence\"] = 150\n",
    "#config[\"hidden_layer\"] = 300\n",
    "FLAGS = namedtuple('Struct', config.keys())(*config.values())"
   ]
  },
  {
   "cell_type": "code",
   "execution_count": 8,
   "metadata": {},
   "outputs": [
    {
     "data": {
      "text/plain": [
       "41829"
      ]
     },
     "execution_count": 8,
     "metadata": {},
     "output_type": "execute_result"
    }
   ],
   "source": [
    "import DataUtils\n",
    "import pickle\n",
    "vocab = pickle.load(open(\"vocab.pkl\", \"rb\"))\n",
    "char_vocab = pickle.load(open(\"char_vocab.pkl\", \"rb\"))\n",
    "vocab.size()"
   ]
  },
  {
   "cell_type": "code",
   "execution_count": null,
   "metadata": {},
   "outputs": [
    {
     "name": "stdout",
     "output_type": "stream",
     "text": [
      "Load Glove\n",
      "embedding dim is setted to 300\n"
     ]
    }
   ],
   "source": [
    "import DataUtils\n",
    "\n",
    "print(\"Load Glove\")\n",
    "emb = DataUtils.GloVe(\"../local/match_lstm_data/glove.6B.300d.txt\")"
   ]
  },
  {
   "cell_type": "code",
   "execution_count": 6,
   "metadata": {},
   "outputs": [
    {
     "name": "stdout",
     "output_type": "stream",
     "text": [
      "WARNING:tensorflow:\n",
      "The TensorFlow contrib module will not be included in TensorFlow 2.0.\n",
      "For more information, please see:\n",
      "  * https://github.com/tensorflow/community/blob/master/rfcs/20180907-contrib-sunset.md\n",
      "  * https://github.com/tensorflow/addons\n",
      "  * https://github.com/tensorflow/io (for I/O related ops)\n",
      "If you depend on functionality not listed there, please file an issue.\n",
      "\n",
      "WARNING:tensorflow:From E:\\nhanv\\NLPHUST\\local\\Question-Retrieval-1\\Match_LSTM.py:286: The name tf.variable_scope is deprecated. Please use tf.compat.v1.variable_scope instead.\n",
      "\n",
      "WARNING:tensorflow:From E:\\nhanv\\NLPHUST\\local\\Question-Retrieval-1\\Match_LSTM.py:287: The name tf.placeholder is deprecated. Please use tf.compat.v1.placeholder instead.\n",
      "\n",
      "WARNING:tensorflow:From E:\\nhanv\\NLPHUST\\local\\Question-Retrieval-1\\Match_LSTM.py:318: The name tf.get_variable is deprecated. Please use tf.compat.v1.get_variable instead.\n",
      "\n",
      "WARNING:tensorflow:From C:\\Users\\nhanv\\Anaconda3\\lib\\site-packages\\tensorflow\\python\\ops\\init_ops.py:1251: calling VarianceScaling.__init__ (from tensorflow.python.ops.init_ops) with dtype is deprecated and will be removed in a future version.\n",
      "Instructions for updating:\n",
      "Call initializer instance with the dtype argument instead of passing it to the constructor\n",
      "WARNING:tensorflow:From E:\\nhanv\\NLPHUST\\local\\Question-Retrieval-1\\Match_LSTM.py:329: GRUCell.__init__ (from tensorflow.python.ops.rnn_cell_impl) is deprecated and will be removed in a future version.\n",
      "Instructions for updating:\n",
      "This class is equivalent as tf.keras.layers.GRUCell, and will be replaced by that in Tensorflow 2.0.\n",
      "WARNING:tensorflow:From E:\\nhanv\\NLPHUST\\local\\Question-Retrieval-1\\Match_LSTM.py:333: bidirectional_dynamic_rnn (from tensorflow.python.ops.rnn) is deprecated and will be removed in a future version.\n",
      "Instructions for updating:\n",
      "Please use `keras.layers.Bidirectional(keras.layers.RNN(cell))`, which is equivalent to this API\n",
      "WARNING:tensorflow:From C:\\Users\\nhanv\\Anaconda3\\lib\\site-packages\\tensorflow\\python\\ops\\rnn.py:464: dynamic_rnn (from tensorflow.python.ops.rnn) is deprecated and will be removed in a future version.\n",
      "Instructions for updating:\n",
      "Please use `keras.layers.RNN(cell)`, which is equivalent to this API\n",
      "WARNING:tensorflow:From C:\\Users\\nhanv\\Anaconda3\\lib\\site-packages\\tensorflow\\python\\ops\\rnn_cell_impl.py:564: calling Constant.__init__ (from tensorflow.python.ops.init_ops) with dtype is deprecated and will be removed in a future version.\n",
      "Instructions for updating:\n",
      "Call initializer instance with the dtype argument instead of passing it to the constructor\n",
      "WARNING:tensorflow:From C:\\Users\\nhanv\\Anaconda3\\lib\\site-packages\\tensorflow\\python\\ops\\rnn_cell_impl.py:574: calling Zeros.__init__ (from tensorflow.python.ops.init_ops) with dtype is deprecated and will be removed in a future version.\n",
      "Instructions for updating:\n",
      "Call initializer instance with the dtype argument instead of passing it to the constructor\n",
      "WARNING:tensorflow:From C:\\Users\\nhanv\\Anaconda3\\lib\\site-packages\\tensorflow\\python\\ops\\rnn.py:244: add_dispatch_support.<locals>.wrapper (from tensorflow.python.ops.array_ops) is deprecated and will be removed in a future version.\n",
      "Instructions for updating:\n",
      "Use tf.where in 2.0, which has the same broadcast rule as np.where\n",
      "WARNING:tensorflow:From E:\\nhanv\\NLPHUST\\local\\Question-Retrieval-1\\Match_LSTM.py:360: calling dropout (from tensorflow.python.ops.nn_ops) with keep_prob is deprecated and will be removed in a future version.\n",
      "Instructions for updating:\n",
      "Please use `rate` instead of `keep_prob`. Rate should be set to `rate = 1 - keep_prob`.\n",
      "WARNING:tensorflow:From E:\\nhanv\\NLPHUST\\local\\Question-Retrieval-1\\Match_LSTM.py:39: BasicLSTMCell.__init__ (from tensorflow.python.ops.rnn_cell_impl) is deprecated and will be removed in a future version.\n",
      "Instructions for updating:\n",
      "This class is equivalent as tf.keras.layers.LSTMCell, and will be replaced by that in Tensorflow 2.0.\n",
      "WARNING:tensorflow:From E:\\nhanv\\NLPHUST\\local\\Question-Retrieval-1\\Match_LSTM.py:68: batch_normalization (from tensorflow.python.layers.normalization) is deprecated and will be removed in a future version.\n",
      "Instructions for updating:\n",
      "Use keras.layers.BatchNormalization instead.  In particular, `tf.control_dependencies(tf.GraphKeys.UPDATE_OPS)` should not be used (consult the `tf.keras.layers.batch_normalization` documentation).\n",
      "WARNING:tensorflow:From E:\\nhanv\\NLPHUST\\local\\Question-Retrieval-1\\Match_LSTM.py:104: LSTMCell.__init__ (from tensorflow.python.ops.rnn_cell_impl) is deprecated and will be removed in a future version.\n",
      "Instructions for updating:\n",
      "This class is equivalent as tf.keras.layers.LSTMCell, and will be replaced by that in Tensorflow 2.0.\n",
      "WARNING:tensorflow:From E:\\nhanv\\NLPHUST\\local\\Question-Retrieval-1\\layers.py:193: The name tf.nn.rnn_cell.LSTMStateTuple is deprecated. Please use tf.compat.v1.nn.rnn_cell.LSTMStateTuple instead.\n",
      "\n",
      "WARNING:tensorflow:From E:\\nhanv\\NLPHUST\\local\\Question-Retrieval-1\\Match_LSTM.py:219: dense (from tensorflow.python.layers.core) is deprecated and will be removed in a future version.\n",
      "Instructions for updating:\n",
      "Use keras.layers.dense instead.\n",
      "Tensor(\"SQUAD_ans_ptr/mul:0\", shape=(?,), dtype=int32)\n",
      "Tensor(\"SQUAD_ans_ptr/mul:0\", shape=(?,), dtype=int32)\n",
      "WARNING:tensorflow:From E:\\nhanv\\NLPHUST\\local\\Question-Retrieval-1\\Match_LSTM.py:392: The name tf.trainable_variables is deprecated. Please use tf.compat.v1.trainable_variables instead.\n",
      "\n",
      "Number of parameter is 66\n",
      "Number of parameter in SemEval task is 29\n",
      "Number of parameter in SQUAD task is 29\n",
      "Num of transfer value: 14\n",
      "WARNING:tensorflow:From E:\\nhanv\\NLPHUST\\local\\Question-Retrieval-1\\Match_LSTM.py:275: The name tf.train.AdamOptimizer is deprecated. Please use tf.compat.v1.train.AdamOptimizer instead.\n",
      "\n"
     ]
    }
   ],
   "source": [
    "from Match_LSTM import MatchLSTM\n",
    "import tensorflow as tf\n",
    "tf.reset_default_graph()\n",
    "model = MatchLSTM(FLAGS, vocab, char_vocab, emb)"
   ]
  },
  {
   "cell_type": "code",
   "execution_count": 9,
   "metadata": {},
   "outputs": [
    {
     "name": "stdout",
     "output_type": "stream",
     "text": [
      "E:\\nhanv\\NLPHUST\\local\\Question-Retrieval-1\\runs\\checkpoints\n",
      "INFO:tensorflow:Restoring parameters from ./runs/checkpoints/checkpoint-3\n",
      "loaded model from checkpoint None\n"
     ]
    }
   ],
   "source": [
    "import os\n",
    "sess = tf.Session()\n",
    "saver = tf.train.Saver(tf.global_variables(), max_to_keep=FLAGS.num_checkpoints)\n",
    "checkpoint_dir = os.path.abspath(os.path.join('runs/', \"checkpoints\"))\n",
    "print(checkpoint_dir)\n",
    "last_checkpoint = tf.train.latest_checkpoint(checkpoint_dir)\n",
    "saver.restore(sess,\"./runs/checkpoints/checkpoint-3\")\n",
    "#sess.run(tf.global_variables_initializer())\n",
    "print(\"loaded model from checkpoint {}\".format(last_checkpoint))"
   ]
  },
  {
   "cell_type": "code",
   "execution_count": 10,
   "metadata": {},
   "outputs": [],
   "source": [
    "q = \"do you know how long it will take to get schengen visa from embassy of greece. 3 days. 1 week. any idea. thanks .\"\n",
    "#a = \"Men who drive automatics are nancy boys in my opinion...Might as well buy a Triumph Spitfire ir Tiida as your first car ..\"\n",
    "a = \"standard is 2 weeks maximum. but when i apply my schengen visa from hungarian embassy took 5 weeks .\""
   ]
  },
  {
   "cell_type": "code",
   "execution_count": 16,
   "metadata": {},
   "outputs": [],
   "source": [
    "from nltk.tokenize import word_tokenize\n",
    "import spacy\n",
    "en = spacy.load(\"en\")\n",
    "\n",
    "q = [[w.string.strip() for w in en(q.lower())] + ['<eos>']]\n",
    "a = [[w.string.strip() for w in en(a.lower())] + ['<eos>']]\n",
    "#q = [word_tokenize(q.lower()) + ['<eos>']]\n",
    "#a = [word_tokenize(a.lower())  + ['<eos>']]\n",
    "qi = vocab.vectorize(q, pad=100)\n",
    "ai = vocab.vectorize(a, pad=150)\n",
    "qi_char = char_vocab.vectorize(q, pad=15, seq_pad=100)\n",
    "si_char = char_vocab.vectorize(a, pad=15, seq_pad=150)"
   ]
  },
  {
   "cell_type": "code",
   "execution_count": 17,
   "metadata": {},
   "outputs": [
    {
     "name": "stdout",
     "output_type": "stream",
     "text": [
      "[[0.58083737]]\n"
     ]
    }
   ],
   "source": [
    "af, ab, yp =sess.run([model.attention_fw, model.attention_bw, model.yp],\n",
    "                feed_dict = {model.queries: qi,\n",
    "                            model.hypothesis: ai,\n",
    "                            model.queries_char: qi_char,\n",
    "                            model.hypothesis_char: si_char,\n",
    "                            model.dropout:1.0})\n",
    "print(yp)"
   ]
  },
  {
   "cell_type": "code",
   "execution_count": 18,
   "metadata": {},
   "outputs": [
    {
     "data": {
      "image/png": "[encoded data removed]",
      "text/plain": [
       "<Figure size 720x576 with 1 Axes>"
      ]
     },
     "metadata": {
      "needs_background": "light"
     },
     "output_type": "display_data"
    }
   ],
   "source": [
    "import matplotlib.pyplot as plt\n",
    "import numpy as np\n",
    "%matplotlib inline\n",
    "plt.figure(figsize=(10,8))\n",
    "plt.imshow(af[0,:len(a[0])-1,:len(q[0])-1], cmap='Blues')\n",
    "plt.xticks(np.arange(len(q[0])-1), q[0],  rotation='vertical')\n",
    "plt.yticks(np.arange(len(a[0])-1), a[0])\n",
    "#plt.colorbar();\n",
    "plt.tick_params(axis='both', which='major', labelsize=16)\n",
    "plt.show()\n"
   ]
  },
  {
   "cell_type": "code",
   "execution_count": null,
   "metadata": {},
   "outputs": [],
   "source": []
  },
  {
   "cell_type": "code",
   "execution_count": null,
   "metadata": {},
   "outputs": [],
   "source": []
  }
 ],
 "metadata": {
  "kernelspec": {
   "display_name": "Python 3",
   "language": "python",
   "name": "python3"
  },
  "language_info": {
   "codemirror_mode": {
    "name": "ipython",
    "version": 3
   },
   "file_extension": ".py",
   "mimetype": "text/x-python",
   "name": "python",
   "nbconvert_exporter": "python",
   "pygments_lexer": "ipython3",
   "version": "3.7.4"
  }
 },
 "nbformat": 4,
 "nbformat_minor": 2
}
